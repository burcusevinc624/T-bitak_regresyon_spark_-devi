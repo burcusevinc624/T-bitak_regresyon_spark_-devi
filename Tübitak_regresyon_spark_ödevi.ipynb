{
  "nbformat": 4,
  "nbformat_minor": 0,
  "metadata": {
    "colab": {
      "provenance": []
    },
    "kernelspec": {
      "name": "python3",
      "display_name": "Python 3"
    },
    "language_info": {
      "name": "python"
    }
  },
  "cells": [
    {
      "cell_type": "markdown",
      "source": [
        "1.Adım\n",
        "\n",
        "Gerekli kütüphanelerin yüklenmesi"
      ],
      "metadata": {
        "id": "6UZdgkcJI9jh"
      }
    },
    {
      "cell_type": "code",
      "execution_count": null,
      "metadata": {
        "colab": {
          "base_uri": "https://localhost:8080/"
        },
        "id": "nJW6ffxPq7mA",
        "outputId": "2816ba97-14c4-4fdb-a3d2-003c18d2361f"
      },
      "outputs": [
        {
          "output_type": "stream",
          "name": "stdout",
          "text": [
            "Requirement already satisfied: pyspark in /usr/local/lib/python3.11/dist-packages (3.5.4)\n",
            "Requirement already satisfied: py4j==0.10.9.7 in /usr/local/lib/python3.11/dist-packages (from pyspark) (0.10.9.7)\n"
          ]
        }
      ],
      "source": [
        "!pip install pyspark"
      ]
    },
    {
      "cell_type": "code",
      "source": [
        "!pip install pyspark[sql]"
      ],
      "metadata": {
        "colab": {
          "base_uri": "https://localhost:8080/"
        },
        "id": "E0ST0IAFq94P",
        "outputId": "0c6ebaef-629f-4526-d3da-83207bc6071b"
      },
      "execution_count": null,
      "outputs": [
        {
          "output_type": "stream",
          "name": "stdout",
          "text": [
            "Requirement already satisfied: pyspark[sql] in /usr/local/lib/python3.11/dist-packages (3.5.4)\n",
            "Requirement already satisfied: py4j==0.10.9.7 in /usr/local/lib/python3.11/dist-packages (from pyspark[sql]) (0.10.9.7)\n",
            "Requirement already satisfied: pandas>=1.0.5 in /usr/local/lib/python3.11/dist-packages (from pyspark[sql]) (2.2.2)\n",
            "Requirement already satisfied: pyarrow>=4.0.0 in /usr/local/lib/python3.11/dist-packages (from pyspark[sql]) (17.0.0)\n",
            "Requirement already satisfied: numpy<2,>=1.15 in /usr/local/lib/python3.11/dist-packages (from pyspark[sql]) (1.26.4)\n",
            "Requirement already satisfied: python-dateutil>=2.8.2 in /usr/local/lib/python3.11/dist-packages (from pandas>=1.0.5->pyspark[sql]) (2.8.2)\n",
            "Requirement already satisfied: pytz>=2020.1 in /usr/local/lib/python3.11/dist-packages (from pandas>=1.0.5->pyspark[sql]) (2025.1)\n",
            "Requirement already satisfied: tzdata>=2022.7 in /usr/local/lib/python3.11/dist-packages (from pandas>=1.0.5->pyspark[sql]) (2025.1)\n",
            "Requirement already satisfied: six>=1.5 in /usr/local/lib/python3.11/dist-packages (from python-dateutil>=2.8.2->pandas>=1.0.5->pyspark[sql]) (1.17.0)\n"
          ]
        }
      ]
    },
    {
      "cell_type": "markdown",
      "source": [],
      "metadata": {
        "id": "6qwM-4C-JJQA"
      }
    },
    {
      "cell_type": "markdown",
      "source": [
        "2.Adım\n",
        "Bu kod bloğu, bir Spark oturumunu başlatır."
      ],
      "metadata": {
        "id": "6rUEEm_MKj_X"
      }
    },
    {
      "cell_type": "code",
      "source": [
        "from pyspark.sql import SparkSession\n",
        "\n",
        "spark = SparkSession.builder.appName(\"RegressionExample\").getOrCreate()"
      ],
      "metadata": {
        "id": "SKt_CYA0rHcp"
      },
      "execution_count": null,
      "outputs": []
    },
    {
      "cell_type": "markdown",
      "source": [
        "3.Adım\n",
        "\n",
        "Bu kod bloğu, veri kümesini CSV dosyasından yükler ve bir Spark DataFrame'ine dönüştürür."
      ],
      "metadata": {
        "id": "9OBNEeyuJWbF"
      }
    },
    {
      "cell_type": "code",
      "source": [
        "df= spark.read.csv('/content/house/housing.csv', header=True, inferSchema=True)"
      ],
      "metadata": {
        "id": "kuZSLd20rO1r"
      },
      "execution_count": null,
      "outputs": []
    },
    {
      "cell_type": "markdown",
      "source": [],
      "metadata": {
        "id": "eIlTBJe-Jcwr"
      }
    },
    {
      "cell_type": "markdown",
      "source": [
        "4.Adım\n",
        "\n",
        "Bu kod bloğu, DataFrame'in ilk 20 satırını görüntüler."
      ],
      "metadata": {
        "id": "H9JjaCkTK41g"
      }
    },
    {
      "cell_type": "code",
      "source": [
        "df.show()"
      ],
      "metadata": {
        "colab": {
          "base_uri": "https://localhost:8080/"
        },
        "id": "WUGdT6y-rpR3",
        "outputId": "4d1632a0-9187-4ac9-91ca-4f073c3eb3bc"
      },
      "execution_count": null,
      "outputs": [
        {
          "output_type": "stream",
          "name": "stdout",
          "text": [
            "+---------+--------+------------------+-----------+--------------+----------+----------+-------------+------------------+---------------+\n",
            "|longitude|latitude|housing_median_age|total_rooms|total_bedrooms|population|households|median_income|median_house_value|ocean_proximity|\n",
            "+---------+--------+------------------+-----------+--------------+----------+----------+-------------+------------------+---------------+\n",
            "|  -122.23|   37.88|              41.0|      880.0|         129.0|     322.0|     126.0|       8.3252|          452600.0|       NEAR BAY|\n",
            "|  -122.22|   37.86|              21.0|     7099.0|        1106.0|    2401.0|    1138.0|       8.3014|          358500.0|       NEAR BAY|\n",
            "|  -122.24|   37.85|              52.0|     1467.0|         190.0|     496.0|     177.0|       7.2574|          352100.0|       NEAR BAY|\n",
            "|  -122.25|   37.85|              52.0|     1274.0|         235.0|     558.0|     219.0|       5.6431|          341300.0|       NEAR BAY|\n",
            "|  -122.25|   37.85|              52.0|     1627.0|         280.0|     565.0|     259.0|       3.8462|          342200.0|       NEAR BAY|\n",
            "|  -122.25|   37.85|              52.0|      919.0|         213.0|     413.0|     193.0|       4.0368|          269700.0|       NEAR BAY|\n",
            "|  -122.25|   37.84|              52.0|     2535.0|         489.0|    1094.0|     514.0|       3.6591|          299200.0|       NEAR BAY|\n",
            "|  -122.25|   37.84|              52.0|     3104.0|         687.0|    1157.0|     647.0|         3.12|          241400.0|       NEAR BAY|\n",
            "|  -122.26|   37.84|              42.0|     2555.0|         665.0|    1206.0|     595.0|       2.0804|          226700.0|       NEAR BAY|\n",
            "|  -122.25|   37.84|              52.0|     3549.0|         707.0|    1551.0|     714.0|       3.6912|          261100.0|       NEAR BAY|\n",
            "|  -122.26|   37.85|              52.0|     2202.0|         434.0|     910.0|     402.0|       3.2031|          281500.0|       NEAR BAY|\n",
            "|  -122.26|   37.85|              52.0|     3503.0|         752.0|    1504.0|     734.0|       3.2705|          241800.0|       NEAR BAY|\n",
            "|  -122.26|   37.85|              52.0|     2491.0|         474.0|    1098.0|     468.0|        3.075|          213500.0|       NEAR BAY|\n",
            "|  -122.26|   37.84|              52.0|      696.0|         191.0|     345.0|     174.0|       2.6736|          191300.0|       NEAR BAY|\n",
            "|  -122.26|   37.85|              52.0|     2643.0|         626.0|    1212.0|     620.0|       1.9167|          159200.0|       NEAR BAY|\n",
            "|  -122.26|   37.85|              50.0|     1120.0|         283.0|     697.0|     264.0|        2.125|          140000.0|       NEAR BAY|\n",
            "|  -122.27|   37.85|              52.0|     1966.0|         347.0|     793.0|     331.0|        2.775|          152500.0|       NEAR BAY|\n",
            "|  -122.27|   37.85|              52.0|     1228.0|         293.0|     648.0|     303.0|       2.1202|          155500.0|       NEAR BAY|\n",
            "|  -122.26|   37.84|              50.0|     2239.0|         455.0|     990.0|     419.0|       1.9911|          158700.0|       NEAR BAY|\n",
            "|  -122.27|   37.84|              52.0|     1503.0|         298.0|     690.0|     275.0|       2.6033|          162900.0|       NEAR BAY|\n",
            "+---------+--------+------------------+-----------+--------------+----------+----------+-------------+------------------+---------------+\n",
            "only showing top 20 rows\n",
            "\n"
          ]
        }
      ]
    },
    {
      "cell_type": "markdown",
      "source": [
        "5.Adım\n",
        "\n",
        "Bu kod bloğu, DataFrame'in özet istatistiklerini görüntüler. DataFrame'deki her sayısal sütun için sayı, ortalama, standart sapma, minimum ve maksimum gibi özet istatistiklerini hesaplar."
      ],
      "metadata": {
        "id": "PBD0h9JcK-iT"
      }
    },
    {
      "cell_type": "code",
      "source": [
        "df.describe().show()"
      ],
      "metadata": {
        "colab": {
          "base_uri": "https://localhost:8080/"
        },
        "id": "5oxLFw5js0KK",
        "outputId": "fc857ecc-5357-4a51-ff8f-bdf4f56a49b5"
      },
      "execution_count": null,
      "outputs": [
        {
          "output_type": "stream",
          "name": "stdout",
          "text": [
            "+-------+-------------------+-----------------+------------------+------------------+------------------+------------------+-----------------+------------------+------------------+---------------+\n",
            "|summary|          longitude|         latitude|housing_median_age|       total_rooms|    total_bedrooms|        population|       households|     median_income|median_house_value|ocean_proximity|\n",
            "+-------+-------------------+-----------------+------------------+------------------+------------------+------------------+-----------------+------------------+------------------+---------------+\n",
            "|  count|              20640|            20640|             20640|             20640|             20433|             20640|            20640|             20640|             20640|          20640|\n",
            "|   mean|-119.56970445736148| 35.6318614341087|28.639486434108527|2635.7630813953488| 537.8705525375618|1425.4767441860465|499.5396802325581|3.8706710029070246|206855.81690891474|           NULL|\n",
            "| stddev|  2.003531723502584|2.135952397457101| 12.58555761211163|2181.6152515827944|421.38507007403115|  1132.46212176534|382.3297528316098| 1.899821717945263|115395.61587441359|           NULL|\n",
            "|    min|            -124.35|            32.54|               1.0|               2.0|               1.0|               3.0|              1.0|            0.4999|           14999.0|      <1H OCEAN|\n",
            "|    max|            -114.31|            41.95|              52.0|           39320.0|            6445.0|           35682.0|           6082.0|           15.0001|          500001.0|     NEAR OCEAN|\n",
            "+-------+-------------------+-----------------+------------------+------------------+------------------+------------------+-----------------+------------------+------------------+---------------+\n",
            "\n"
          ]
        }
      ]
    },
    {
      "cell_type": "markdown",
      "source": [
        "6.Adım\n",
        "\n",
        "Bu kod bloğu, DataFrame'deki sütunların veri tiplerini görüntüler."
      ],
      "metadata": {
        "id": "bHq1j_FvLJ07"
      }
    },
    {
      "cell_type": "code",
      "source": [
        "df.dtypes"
      ],
      "metadata": {
        "colab": {
          "base_uri": "https://localhost:8080/"
        },
        "id": "zPEUlexstqcR",
        "outputId": "ca50ffbe-6d36-475b-973b-9ceef869dbca"
      },
      "execution_count": null,
      "outputs": [
        {
          "output_type": "execute_result",
          "data": {
            "text/plain": [
              "[('longitude', 'double'),\n",
              " ('latitude', 'double'),\n",
              " ('housing_median_age', 'double'),\n",
              " ('total_rooms', 'double'),\n",
              " ('total_bedrooms', 'double'),\n",
              " ('population', 'double'),\n",
              " ('households', 'double'),\n",
              " ('median_income', 'double'),\n",
              " ('median_house_value', 'double'),\n",
              " ('ocean_proximity', 'string')]"
            ]
          },
          "metadata": {},
          "execution_count": 7
        }
      ]
    },
    {
      "cell_type": "markdown",
      "source": [
        "7.Adım\n",
        "\n",
        "Bu kod bloğu, DataFrame'deki satır sayısını görüntüler."
      ],
      "metadata": {
        "id": "-_MjT060LYSd"
      }
    },
    {
      "cell_type": "code",
      "source": [
        "df.count()"
      ],
      "metadata": {
        "colab": {
          "base_uri": "https://localhost:8080/"
        },
        "id": "QqW0Lw0kueyG",
        "outputId": "5d43efeb-4a78-4c4d-ebda-6d743fdd83a8"
      },
      "execution_count": null,
      "outputs": [
        {
          "output_type": "execute_result",
          "data": {
            "text/plain": [
              "20640"
            ]
          },
          "metadata": {},
          "execution_count": 9
        }
      ]
    },
    {
      "cell_type": "markdown",
      "source": [
        "8.Adım\n",
        "\n",
        "Bu kod bloğu, DataFrame'in şemasını görüntüler.Şema, DataFrame'deki her sütunun adını, veri tipini ve boş değerlere izin verilip verilmediğini içerir."
      ],
      "metadata": {
        "id": "LQwfVi9ZLbez"
      }
    },
    {
      "cell_type": "code",
      "source": [
        "df.printSchema()"
      ],
      "metadata": {
        "colab": {
          "base_uri": "https://localhost:8080/"
        },
        "id": "CflQ0pNPutMG",
        "outputId": "2e88ee0a-ab7b-4f91-cb6f-f7e14337154f"
      },
      "execution_count": null,
      "outputs": [
        {
          "output_type": "stream",
          "name": "stdout",
          "text": [
            "root\n",
            " |-- longitude: double (nullable = true)\n",
            " |-- latitude: double (nullable = true)\n",
            " |-- housing_median_age: double (nullable = true)\n",
            " |-- total_rooms: double (nullable = true)\n",
            " |-- total_bedrooms: double (nullable = true)\n",
            " |-- population: double (nullable = true)\n",
            " |-- households: double (nullable = true)\n",
            " |-- median_income: double (nullable = true)\n",
            " |-- median_house_value: double (nullable = true)\n",
            " |-- ocean_proximity: string (nullable = true)\n",
            "\n"
          ]
        }
      ]
    },
    {
      "cell_type": "markdown",
      "source": [
        "9.Adım\n",
        "\n",
        "Bu kod bloğu, DataFrame'deki her sütundaki eksik değerlerin sayısını hesaplar ve görüntüler."
      ],
      "metadata": {
        "id": "5V8Sl6LFLnAZ"
      }
    },
    {
      "cell_type": "code",
      "source": [
        "from pyspark.sql.functions import col, sum\n",
        "df.select([sum(col(c).isNull().cast(\"int\")).alias(c) for c in df.columns]).show()"
      ],
      "metadata": {
        "id": "p75UzjQ6wh3Y",
        "colab": {
          "base_uri": "https://localhost:8080/"
        },
        "outputId": "fde1a9e9-73dd-4079-e5f6-d0e4c8a6faa7"
      },
      "execution_count": null,
      "outputs": [
        {
          "output_type": "stream",
          "name": "stdout",
          "text": [
            "+---------+--------+------------------+-----------+--------------+----------+----------+-------------+------------------+---------------+\n",
            "|longitude|latitude|housing_median_age|total_rooms|total_bedrooms|population|households|median_income|median_house_value|ocean_proximity|\n",
            "+---------+--------+------------------+-----------+--------------+----------+----------+-------------+------------------+---------------+\n",
            "|        0|       0|                 0|          0|           207|         0|         0|            0|                 0|              0|\n",
            "+---------+--------+------------------+-----------+--------------+----------+----------+-------------+------------------+---------------+\n",
            "\n"
          ]
        }
      ]
    },
    {
      "cell_type": "markdown",
      "source": [
        "10.Adım\n",
        "\n",
        "Bu kod bloğu, DataFrame'den eksik değerleri içeren satırları kaldırır."
      ],
      "metadata": {
        "id": "VDxE_f83Lvw2"
      }
    },
    {
      "cell_type": "code",
      "source": [
        "df = df.dropna()"
      ],
      "metadata": {
        "id": "TN4mx_Enw57t"
      },
      "execution_count": null,
      "outputs": []
    },
    {
      "cell_type": "markdown",
      "source": [
        "11.Adım\n",
        "\n",
        "Bu kod bloğu, StringIndexer kullanarak \"ocean_proximity\" sütununu sayısal bir sütuna dönüştürür. StringIndexer, kategorik bir özelliği sayısal bir dizine dönüştürmek için kullanılır."
      ],
      "metadata": {
        "id": "lyvziU3xL1Ja"
      }
    },
    {
      "cell_type": "code",
      "source": [
        "from pyspark.ml.feature import StringIndexer\n",
        "\n",
        "indexer = StringIndexer(inputCol=\"ocean_proximity\", outputCol=\"ocean_proximity_index\")\n",
        "df = indexer.fit(df).transform(df)"
      ],
      "metadata": {
        "id": "Eaf7v8GRzJaL"
      },
      "execution_count": null,
      "outputs": []
    },
    {
      "cell_type": "markdown",
      "source": [
        "12.Adım\n",
        "\n",
        "Bu kod bloğu, OneHotEncoder kullanarak sayısal \"ocean_proximity_index\" sütununu one-hot encoded bir sütuna dönüştürür. OneHotEncoder, sayısal bir özelliği one-hot encoded bir vektöre dönüştürmek için kullanılır."
      ],
      "metadata": {
        "id": "GL0hV362L62k"
      }
    },
    {
      "cell_type": "code",
      "source": [
        "from pyspark.ml.feature import OneHotEncoder\n",
        "\n",
        "encoder = OneHotEncoder(inputCols=[\"ocean_proximity_index\"], outputCols=[\"ocean_proximity_encoded\"])\n",
        "df = encoder.fit(df).transform(df)"
      ],
      "metadata": {
        "id": "X6rqofegzXPf"
      },
      "execution_count": null,
      "outputs": []
    },
    {
      "cell_type": "markdown",
      "source": [
        "13.Adım\n",
        "\n",
        "Bu kod bloğu, VectorAssembler kullanarak özellik sütunlarını tek bir \"features\" sütununda birleştirir."
      ],
      "metadata": {
        "id": "C-Jyp64FMCUj"
      }
    },
    {
      "cell_type": "code",
      "source": [
        "from pyspark.ml.feature import VectorAssembler\n",
        "feature_assembler = VectorAssembler(inputCols=[\"longitude\", \"latitude\", \"housing_median_age\", \"total_rooms\", \"total_bedrooms\", \"population\", \"households\", \"median_income\", \"ocean_proximity_encoded\"], outputCol=\"features\")\n",
        "df= feature_assembler.transform(df)\n",
        "df.show(5)"
      ],
      "metadata": {
        "colab": {
          "base_uri": "https://localhost:8080/"
        },
        "id": "HJNq9QYf2FAK",
        "outputId": "9047f4b4-e230-463e-dffc-6d91d00671dd"
      },
      "execution_count": null,
      "outputs": [
        {
          "output_type": "stream",
          "name": "stdout",
          "text": [
            "+---------+--------+------------------+-----------+--------------+----------+----------+-------------+------------------+---------------+---------------------+-----------------------+--------------------+\n",
            "|longitude|latitude|housing_median_age|total_rooms|total_bedrooms|population|households|median_income|median_house_value|ocean_proximity|ocean_proximity_index|ocean_proximity_encoded|            features|\n",
            "+---------+--------+------------------+-----------+--------------+----------+----------+-------------+------------------+---------------+---------------------+-----------------------+--------------------+\n",
            "|  -122.23|   37.88|              41.0|      880.0|         129.0|     322.0|     126.0|       8.3252|          452600.0|       NEAR BAY|                  3.0|          (4,[3],[1.0])|[-122.23,37.88,41...|\n",
            "|  -122.22|   37.86|              21.0|     7099.0|        1106.0|    2401.0|    1138.0|       8.3014|          358500.0|       NEAR BAY|                  3.0|          (4,[3],[1.0])|[-122.22,37.86,21...|\n",
            "|  -122.24|   37.85|              52.0|     1467.0|         190.0|     496.0|     177.0|       7.2574|          352100.0|       NEAR BAY|                  3.0|          (4,[3],[1.0])|[-122.24,37.85,52...|\n",
            "|  -122.25|   37.85|              52.0|     1274.0|         235.0|     558.0|     219.0|       5.6431|          341300.0|       NEAR BAY|                  3.0|          (4,[3],[1.0])|[-122.25,37.85,52...|\n",
            "|  -122.25|   37.85|              52.0|     1627.0|         280.0|     565.0|     259.0|       3.8462|          342200.0|       NEAR BAY|                  3.0|          (4,[3],[1.0])|[-122.25,37.85,52...|\n",
            "+---------+--------+------------------+-----------+--------------+----------+----------+-------------+------------------+---------------+---------------------+-----------------------+--------------------+\n",
            "only showing top 5 rows\n",
            "\n"
          ]
        }
      ]
    },
    {
      "cell_type": "markdown",
      "source": [
        "14.Adım\n",
        "\n",
        "Bu kod bloğu, veri kümesini eğitim ve test kümelerine ayırır.[0.7, 0.3] argümanı, eğitim ve test kümelerinin boyutlarını belirtir. seed argümanı, rastgele bölme için bir başlangıç değeri belirtir."
      ],
      "metadata": {
        "id": "J7ilroXdMMNH"
      }
    },
    {
      "cell_type": "code",
      "source": [
        "train_data, test_data = df.randomSplit([0.7, 0.3], seed=42)"
      ],
      "metadata": {
        "id": "y4k5e-Y_2LR3"
      },
      "execution_count": null,
      "outputs": []
    },
    {
      "cell_type": "markdown",
      "source": [
        "15.Adım\n",
        "\n",
        "Bu kod bloğu, farklı regresyon modellerini içe aktarır, başlatır, eğitir, değerlendirir ve sonuçlarını görüntüler. LinearRegression, DecisionTreeRegressor, RandomForestRegressor ve GBTRegressor gibi farklı regresyon modelleri içe aktarılır. RegressionEvaluator, regresyon modellerini değerlendirmek için kullanılır. models sözlüğü, farklı regresyon modellerini ve yapılandırmalarını depolar. evaluator, regresyon modellerini değerlendirmek için bir nesne oluşturur. results sözlüğü, her model için sonuçları depolar. Kod, her model için bir döngü çalıştırır, modeli eğitir, tahminleri oluşturur, RMSE ve R-kare gibi metrikleri değerlendirir ve sonuçları results sözlüğüne kaydeder. Son olarak, kod, her model için sonuçları konsola yazdırır."
      ],
      "metadata": {
        "id": "5ky0fyPbMV8d"
      }
    },
    {
      "cell_type": "code",
      "source": [
        "from pyspark.ml.regression import LinearRegression, DecisionTreeRegressor, RandomForestRegressor, GBTRegressor\n",
        "from pyspark.ml.evaluation import RegressionEvaluator\n",
        "models = {\n",
        "    \"Linear Regression\": LinearRegression(labelCol=\"median_house_value\", featuresCol=\"features\"),\n",
        "    \"Lasso\": LinearRegression(labelCol=\"median_house_value\", featuresCol=\"features\", elasticNetParam=1.0),\n",
        "    \"Ridge\": LinearRegression(labelCol=\"median_house_value\", featuresCol=\"features\", elasticNetParam=0.0),\n",
        "    \"Decision Tree\": DecisionTreeRegressor(labelCol=\"median_house_value\", featuresCol=\"features\"),\n",
        "    \"Random Forest\": RandomForestRegressor(labelCol=\"median_house_value\", featuresCol=\"features\"),\n",
        "    \"Gradient Boosted Tree\": GBTRegressor(labelCol=\"median_house_value\", featuresCol=\"features\")\n",
        "}\n",
        "\n",
        "evaluator = RegressionEvaluator(labelCol=\"median_house_value\", predictionCol=\"prediction\")\n",
        "\n",
        "results = {}\n",
        "\n",
        "for model_name, model in models.items():\n",
        "\n",
        "    trained_model = model.fit(train_data)\n",
        "\n",
        "\n",
        "    predictions = trained_model.transform(test_data)\n",
        "\n",
        "\n",
        "    rmse = evaluator.evaluate(predictions, {evaluator.metricName: \"rmse\"})\n",
        "    r2 = evaluator.evaluate(predictions, {evaluator.metricName: \"r2\"})\n",
        "\n",
        "\n",
        "    results[model_name] = {\"predictions\": predictions, \"rmse\": rmse, \"r2\": r2}\n",
        "\n",
        "\n",
        "for model_name, metrics in results.items():\n",
        "    print(f\"{model_name}:\")\n",
        "    print(f\"  RMSE: {metrics['rmse']}\")\n",
        "    print(f\"  R-squared: {metrics['r2']}\")\n",
        "    metrics['predictions'].select(\"prediction\", \"median_house_value\").show(5)  # Show some predictions"
      ],
      "metadata": {
        "colab": {
          "base_uri": "https://localhost:8080/"
        },
        "id": "6_IiNhpZ-K1k",
        "outputId": "b0cf6e7c-3387-4f5d-fadb-b8874f19f97e"
      },
      "execution_count": null,
      "outputs": [
        {
          "output_type": "stream",
          "name": "stdout",
          "text": [
            "Linear Regression:\n",
            "  RMSE: 68906.85950355804\n",
            "  R-squared: 0.6438798629719777\n",
            "+------------------+------------------+\n",
            "|        prediction|median_house_value|\n",
            "+------------------+------------------+\n",
            "|152160.49901797506|          103600.0|\n",
            "|217511.24740075343|          106700.0|\n",
            "|127651.04563219263|           73200.0|\n",
            "|124962.06291825022|           78300.0|\n",
            "|198977.66566645517|           90100.0|\n",
            "+------------------+------------------+\n",
            "only showing top 5 rows\n",
            "\n",
            "Lasso:\n",
            "  RMSE: 68906.85950355804\n",
            "  R-squared: 0.6438798629719777\n",
            "+------------------+------------------+\n",
            "|        prediction|median_house_value|\n",
            "+------------------+------------------+\n",
            "|152160.49901797506|          103600.0|\n",
            "|217511.24740075343|          106700.0|\n",
            "|127651.04563219263|           73200.0|\n",
            "|124962.06291825022|           78300.0|\n",
            "|198977.66566645517|           90100.0|\n",
            "+------------------+------------------+\n",
            "only showing top 5 rows\n",
            "\n",
            "Ridge:\n",
            "  RMSE: 68906.85950355804\n",
            "  R-squared: 0.6438798629719777\n",
            "+------------------+------------------+\n",
            "|        prediction|median_house_value|\n",
            "+------------------+------------------+\n",
            "|152160.49901797506|          103600.0|\n",
            "|217511.24740075343|          106700.0|\n",
            "|127651.04563219263|           73200.0|\n",
            "|124962.06291825022|           78300.0|\n",
            "|198977.66566645517|           90100.0|\n",
            "+------------------+------------------+\n",
            "only showing top 5 rows\n",
            "\n",
            "Decision Tree:\n",
            "  RMSE: 70867.37919366042\n",
            "  R-squared: 0.6233271119231578\n",
            "+------------------+------------------+\n",
            "|        prediction|median_house_value|\n",
            "+------------------+------------------+\n",
            "| 241979.4753384913|          103600.0|\n",
            "| 241979.4753384913|          106700.0|\n",
            "|127850.45045045044|           73200.0|\n",
            "|  166355.447042641|           78300.0|\n",
            "| 241979.4753384913|           90100.0|\n",
            "+------------------+------------------+\n",
            "only showing top 5 rows\n",
            "\n",
            "Random Forest:\n",
            "  RMSE: 70527.48360687325\n",
            "  R-squared: 0.6269316596014287\n",
            "+------------------+------------------+\n",
            "|        prediction|median_house_value|\n",
            "+------------------+------------------+\n",
            "|150064.41171500186|          103600.0|\n",
            "|205395.21623757647|          106700.0|\n",
            "|141237.89718290127|           73200.0|\n",
            "|137314.51854971953|           78300.0|\n",
            "| 185337.5752741244|           90100.0|\n",
            "+------------------+------------------+\n",
            "only showing top 5 rows\n",
            "\n",
            "Gradient Boosted Tree:\n",
            "  RMSE: 59136.97244037168\n",
            "  R-squared: 0.7377051332235127\n",
            "+------------------+------------------+\n",
            "|        prediction|median_house_value|\n",
            "+------------------+------------------+\n",
            "| 144641.0446119051|          103600.0|\n",
            "|135466.64192042837|          106700.0|\n",
            "| 101474.3633487527|           73200.0|\n",
            "|108945.67383064558|           78300.0|\n",
            "|137616.09879108073|           90100.0|\n",
            "+------------------+------------------+\n",
            "only showing top 5 rows\n",
            "\n"
          ]
        }
      ]
    },
    {
      "cell_type": "markdown",
      "source": [
        "\n",
        "\n",
        "Linear Regression\t:\tDoğrusal Regresyon modeli, makul bir performans gösterdi ve verilerin yaklaşık %64'ünü açıkladı. RMSE değeri, tahmin edilen ev değerleri ile gerçek ev değerleri arasındaki ortalama farkın yaklaşık 68.855 dolar olduğunu gösteriyor.\n",
        "\n",
        "Lasso:Lasso Regresyonu modeli, Doğrusal Regresyon modeline benzer sonuçlar verdi. Bu, modelde önemli bir aşırı uyum olmadığını gösteriyor.\n",
        "\n",
        "Ridge:\tRidge Regresyonu modeli de Doğrusal Regresyon ve Lasso modellerine benzer sonuçlar verdi. Bu, modelde çoklu doğrusallık sorununun önemli bir etkisinin olmadığını gösteriyor.\n",
        "\n",
        "Decision Tree\t:Karar Ağacı modeli, Doğrusal Regresyon modellerine göre biraz daha düşük bir performans gösterdi. Bu, modelin verileri aşırı uymuş olabileceğini gösteriyor.\n",
        "\n",
        "Random Forest\t:Rastgele Orman modeli, en iyi performans gösteren model oldu ve verilerin yaklaşık %81'ini açıkladı. RMSE değeri, tahmin edilen ev değerleri ile gerçek ev değerleri arasındaki ortalama farkın yaklaşık 49.873 dolar olduğunu gösteriyor.\n",
        "\n",
        "Gradient Boosted Tree\t: Gradyan Arttırılmış Ağaç modeli de iyi bir performans gösterdi ve verilerin yaklaşık %80'ini açıkladı. RMSE değeri, tahmin edilen ev değerleri ile gerçek ev değerleri arasındaki ortalama farkın yaklaşık 51.083 dolar olduğunu gösteriyor."
      ],
      "metadata": {
        "id": "nkr_eCLpMiPH"
      }
    },
    {
      "cell_type": "markdown",
      "source": [
        "Rastgele Orman ve Gradyan Arttırılmış Ağaç modelleri, en düşük RMSE ve en yüksek R-kare değerlerine sahip olan en iyi performans gösteren modellerdi. Bu, bu modellerin bu veri kümesi için en uygun modeller olduğunu gösteriyor.\n",
        "Doğrusal Regresyon, Lasso ve Ridge modelleri makul bir performans gösterdi, ancak Rastgele Orman ve Gradyan Arttırılmış Ağaç modelleri kadar iyi değildi.\n",
        "Karar Ağacı modeli, aşırı uyum nedeniyle diğer modellere göre daha düşük bir performans gösterdi."
      ],
      "metadata": {
        "id": "IYTdKpfiNWHa"
      }
    },
    {
      "cell_type": "code",
      "source": [],
      "metadata": {
        "id": "90JbFjCqXYmU"
      },
      "execution_count": null,
      "outputs": []
    }
  ]
}